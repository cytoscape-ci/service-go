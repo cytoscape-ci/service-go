{
 "cells": [
  {
   "cell_type": "code",
   "execution_count": 1,
   "metadata": {
    "collapsed": false,
    "scrolled": false
   },
   "outputs": [],
   "source": [
    "import json, requests\n",
    "import pandas as pd\n",
    "\n",
    "# BASE = \"http://localhost:3000/\" # Local machine\n",
    "#BASE = \"http://192.168.99.100:3000/\" # Local Docker instance\n",
    "# BASE = \"http://192.168.99.100:8080/idmapping/v1/\" # Agent on Docker\n",
    "BASE = \"http://ec2-52-37-236-192.us-west-2.compute.amazonaws.com:3000/\" # EC2\n",
    "\n",
    "# BASE = 'http://52.35.61.6:8080/idmapping/v1/'\n",
    "\n",
    "def jprint(data):\n",
    "    print(json.dumps(data, indent=4))\n",
    "\n",
    "# Mixed species query allowed - human, mouse, yeast, and fly\n",
    "query1 = {\n",
    "    \"ids\": [\"rAd5\", \"p53\", \"mapk1\"]\n",
    "}\n",
    "\n",
    "res1 = requests.post(BASE + 'map', json=query1)\n",
    "res_json = res1.json()\n",
    "\n",
    "# jprint(res_json)"
   ]
  },
  {
   "cell_type": "code",
   "execution_count": 3,
   "metadata": {
    "collapsed": false,
    "scrolled": false
   },
   "outputs": [
    {
     "name": "stdout",
     "output_type": "stream",
     "text": [
      "{\n",
      "    \"matched\": [\n",
      "        {\n",
      "            \"matches\": {\n",
      "                \"UniProtKB-ID\": \"CFI1_ARATH\",\n",
      "                \"Symbol\": \"TT5\",\n",
      "                \"GeneID\": \"824678\",\n",
      "                \"Synonyms\": [\n",
      "                    \"A11\",\n",
      "                    \"CFI\",\n",
      "                    \"CHALCONE FLAVANONE ISOMERASE\",\n",
      "                    \"CHI\",\n",
      "                    \"TRANSPARENT TESTA 5\"\n",
      "                ]\n",
      "            },\n",
      "            \"in\": \"TT5\",\n",
      "            \"inType\": \"Symbol\",\n",
      "            \"species\": \"arath\"\n",
      "        },\n",
      "        {\n",
      "            \"matches\": {\n",
      "                \"UniProtKB-ID\": \"Q460R0_ARATH\",\n",
      "                \"Symbol\": \"TT4\",\n",
      "                \"GeneID\": \"831241\",\n",
      "                \"Synonyms\": [\n",
      "                    \"ATCHS\",\n",
      "                    \"CHALCONE SYNTHASE\",\n",
      "                    \"CHALCONE/STILBENE SYNTHASE\",\n",
      "                    \"CHS\",\n",
      "                    \"MAC12.28\",\n",
      "                    \"MAC12_28\",\n",
      "                    \"NARINGENIN-CHALCONE SYNTHASE\",\n",
      "                    \"TRANSPARENT TESTA 4\"\n",
      "                ]\n",
      "            },\n",
      "            \"in\": \"TT4\",\n",
      "            \"inType\": \"Symbol\",\n",
      "            \"species\": \"arath\"\n",
      "        }\n",
      "    ],\n",
      "    \"unmatched\": []\n",
      "}\n"
     ]
    }
   ],
   "source": [
    "# Mixed species query allowed - human, mouse, yeast, and fly\n",
    "query1 = {\n",
    "    \"ids\": [\"TT5\", \"TT4\"],\n",
    "    \"idTypes\": [\"GeneID\", \"Symbol\", \"UniProtKB-ID\", \"Synonyms\"]\n",
    "}\n",
    "\n",
    "res1 = requests.post(BASE + 'map', json=query1)\n",
    "res_json = res1.json()\n",
    "\n",
    "# print(len(res_json[\"matched\"]))\n",
    "jprint(res_json)"
   ]
  },
  {
   "cell_type": "code",
   "execution_count": 11,
   "metadata": {
    "collapsed": false,
    "scrolled": false
   },
   "outputs": [
    {
     "name": "stdout",
     "output_type": "stream",
     "text": [
      "{\n",
      "    \"unmatched\": [],\n",
      "    \"matched\": [\n",
      "        {\n",
      "            \"inType\": \"Synonyms\",\n",
      "            \"matches\": {\n",
      "                \"GeneID\": \"3204\",\n",
      "                \"Symbol\": \"HOXA7\",\n",
      "                \"Synonyms\": [\n",
      "                    \"ANTP\",\n",
      "                    \"HOX1\",\n",
      "                    \"HOX1.1\",\n",
      "                    \"HOX1A\"\n",
      "                ],\n",
      "                \"UniProtKB-ID\": \"HXA7_HUMAN\"\n",
      "            },\n",
      "            \"in\": \"Antp\",\n",
      "            \"species\": \"human\"\n",
      "        },\n",
      "        {\n",
      "            \"inType\": \"Synonyms\",\n",
      "            \"matches\": {\n",
      "                \"GeneID\": \"40835\",\n",
      "                \"Symbol\": \"Antp\",\n",
      "                \"Synonyms\": [\n",
      "                    \"3.4\",\n",
      "                    \"ANT-C\",\n",
      "                    \"ANT-P\",\n",
      "                    \"ANTC\",\n",
      "                    \"ANTP\",\n",
      "                    \"Ant\",\n",
      "                    \"AntP\",\n",
      "                    \"AntP1\",\n",
      "                    \"Antp P1\",\n",
      "                    \"Antp P2\",\n",
      "                    \"Antp1\",\n",
      "                    \"Aus\",\n",
      "                    \"BG:DS07700.1\",\n",
      "                    \"CG1028\",\n",
      "                    \"DMANTPE1\",\n",
      "                    \"DRO15DC96Z\",\n",
      "                    \"DmAntp\",\n",
      "                    \"Dmel\\\\CG1028\",\n",
      "                    \"Hu\",\n",
      "                    \"Ns\",\n",
      "                    \"Scx\",\n",
      "                    \"antp\",\n",
      "                    \"l(3)84Ba\"\n",
      "                ],\n",
      "                \"UniProtKB-ID\": \"Q7KSY7_DROME\"\n",
      "            },\n",
      "            \"in\": \"Antp\",\n",
      "            \"species\": \"fly\"\n",
      "        },\n",
      "        {\n",
      "            \"inType\": \"Symbol\",\n",
      "            \"matches\": {\n",
      "                \"GeneID\": \"3204\",\n",
      "                \"Symbol\": \"HOXA7\",\n",
      "                \"Synonyms\": [\n",
      "                    \"ANTP\",\n",
      "                    \"HOX1\",\n",
      "                    \"HOX1.1\",\n",
      "                    \"HOX1A\"\n",
      "                ],\n",
      "                \"UniProtKB-ID\": \"HXA7_HUMAN\"\n",
      "            },\n",
      "            \"in\": \"HOXA7\",\n",
      "            \"species\": \"human\"\n",
      "        },\n",
      "        {\n",
      "            \"inType\": \"Symbol\",\n",
      "            \"matches\": {\n",
      "                \"GeneID\": \"15404\",\n",
      "                \"Symbol\": \"Hoxa7\",\n",
      "                \"Synonyms\": [\n",
      "                    \"AV118143\",\n",
      "                    \"Hox-1.1\",\n",
      "                    \"M6\"\n",
      "                ],\n",
      "                \"UniProtKB-ID\": \"Q8JZW2_MOUSE\"\n",
      "            },\n",
      "            \"in\": \"HOXA7\",\n",
      "            \"species\": \"mouse\"\n",
      "        },\n",
      "        {\n",
      "            \"inType\": \"Symbol\",\n",
      "            \"matches\": {\n",
      "                \"GeneID\": \"831241\",\n",
      "                \"Symbol\": \"TT4\",\n",
      "                \"Synonyms\": [\n",
      "                    \"ATCHS\",\n",
      "                    \"CHALCONE SYNTHASE\",\n",
      "                    \"CHALCONE/STILBENE SYNTHASE\",\n",
      "                    \"CHS\",\n",
      "                    \"MAC12.28\",\n",
      "                    \"MAC12_28\",\n",
      "                    \"NARINGENIN-CHALCONE SYNTHASE\",\n",
      "                    \"TRANSPARENT TESTA 4\"\n",
      "                ],\n",
      "                \"UniProtKB-ID\": \"Q460R0_ARATH\"\n",
      "            },\n",
      "            \"in\": \"TT4\",\n",
      "            \"species\": \"arath\"\n",
      "        }\n",
      "    ]\n",
      "}\n"
     ]
    }
   ],
   "source": [
    "import json, requests\n",
    "\n",
    "# Utility function to display JSON\n",
    "def jprint(data):\n",
    "    print(json.dumps(data, indent=4))\n",
    "\n",
    "# Mixed species query allowed - human, mouse, yeast, and fly\n",
    "query = {\n",
    "    \"ids\": [\"Antp\", \"HOXA7\", \"TT4\"],\n",
    "    \"idTypes\": [\"GeneID\", \"Symbol\", \"UniProtKB-ID\", \"Synonyms\"]\n",
    "}\n",
    "\n",
    "res = requests.post(BASE + 'map', json=query)\n",
    "jprint(res.json())"
   ]
  },
  {
   "cell_type": "code",
   "execution_count": 5,
   "metadata": {
    "collapsed": false,
    "scrolled": true
   },
   "outputs": [
    {
     "ename": "OSError",
     "evalue": "File b'./yeast_genes.txt' does not exist",
     "output_type": "error",
     "traceback": [
      "\u001b[0;31m---------------------------------------------------------------------------\u001b[0m",
      "\u001b[0;31mOSError\u001b[0m                                   Traceback (most recent call last)",
      "\u001b[0;32m<ipython-input-5-e681e912b721>\u001b[0m in \u001b[0;36m<module>\u001b[0;34m()\u001b[0m\n\u001b[0;32m----> 1\u001b[0;31m \u001b[0myeast_genes\u001b[0m \u001b[0;34m=\u001b[0m \u001b[0mpd\u001b[0m\u001b[0;34m.\u001b[0m\u001b[0mread_csv\u001b[0m\u001b[0;34m(\u001b[0m\u001b[0;34m\"./yeast_genes.txt\"\u001b[0m\u001b[0;34m,\u001b[0m \u001b[0mnames\u001b[0m\u001b[0;34m=\u001b[0m\u001b[0;34m[\u001b[0m\u001b[0;34m\"GeneID\"\u001b[0m\u001b[0;34m]\u001b[0m\u001b[0;34m,\u001b[0m \u001b[0mdtype\u001b[0m\u001b[0;34m=\u001b[0m\u001b[0;34m{\u001b[0m\u001b[0;34m\"GeneID\"\u001b[0m\u001b[0;34m:\u001b[0m \u001b[0mstr\u001b[0m\u001b[0;34m}\u001b[0m\u001b[0;34m)\u001b[0m\u001b[0;34m\u001b[0m\u001b[0m\n\u001b[0m\u001b[1;32m      2\u001b[0m \u001b[0mprint\u001b[0m\u001b[0;34m(\u001b[0m\u001b[0mlen\u001b[0m\u001b[0;34m(\u001b[0m\u001b[0myeast_genes\u001b[0m\u001b[0;34m)\u001b[0m\u001b[0;34m)\u001b[0m\u001b[0;34m\u001b[0m\u001b[0m\n\u001b[1;32m      3\u001b[0m \u001b[0;34m\u001b[0m\u001b[0m\n\u001b[1;32m      4\u001b[0m \u001b[0mid_list\u001b[0m \u001b[0;34m=\u001b[0m \u001b[0myeast_genes\u001b[0m\u001b[0;34m[\u001b[0m\u001b[0;34m\"GeneID\"\u001b[0m\u001b[0;34m]\u001b[0m\u001b[0;34m.\u001b[0m\u001b[0mtolist\u001b[0m\u001b[0;34m(\u001b[0m\u001b[0;34m)\u001b[0m\u001b[0;34m\u001b[0m\u001b[0m\n\u001b[1;32m      5\u001b[0m \u001b[0;34m\u001b[0m\u001b[0m\n",
      "\u001b[0;32m/Users/kono/anaconda/lib/python3.4/site-packages/pandas/io/parsers.py\u001b[0m in \u001b[0;36mparser_f\u001b[0;34m(filepath_or_buffer, sep, dialect, compression, doublequote, escapechar, quotechar, quoting, skipinitialspace, lineterminator, header, index_col, names, prefix, skiprows, skipfooter, skip_footer, na_values, true_values, false_values, delimiter, converters, dtype, usecols, engine, delim_whitespace, as_recarray, na_filter, compact_ints, use_unsigned, low_memory, buffer_lines, warn_bad_lines, error_bad_lines, keep_default_na, thousands, comment, decimal, parse_dates, keep_date_col, dayfirst, date_parser, memory_map, float_precision, nrows, iterator, chunksize, verbose, encoding, squeeze, mangle_dupe_cols, tupleize_cols, infer_datetime_format, skip_blank_lines)\u001b[0m\n\u001b[1;32m    496\u001b[0m                     skip_blank_lines=skip_blank_lines)\n\u001b[1;32m    497\u001b[0m \u001b[0;34m\u001b[0m\u001b[0m\n\u001b[0;32m--> 498\u001b[0;31m         \u001b[0;32mreturn\u001b[0m \u001b[0m_read\u001b[0m\u001b[0;34m(\u001b[0m\u001b[0mfilepath_or_buffer\u001b[0m\u001b[0;34m,\u001b[0m \u001b[0mkwds\u001b[0m\u001b[0;34m)\u001b[0m\u001b[0;34m\u001b[0m\u001b[0m\n\u001b[0m\u001b[1;32m    499\u001b[0m \u001b[0;34m\u001b[0m\u001b[0m\n\u001b[1;32m    500\u001b[0m     \u001b[0mparser_f\u001b[0m\u001b[0;34m.\u001b[0m\u001b[0m__name__\u001b[0m \u001b[0;34m=\u001b[0m \u001b[0mname\u001b[0m\u001b[0;34m\u001b[0m\u001b[0m\n",
      "\u001b[0;32m/Users/kono/anaconda/lib/python3.4/site-packages/pandas/io/parsers.py\u001b[0m in \u001b[0;36m_read\u001b[0;34m(filepath_or_buffer, kwds)\u001b[0m\n\u001b[1;32m    273\u001b[0m \u001b[0;34m\u001b[0m\u001b[0m\n\u001b[1;32m    274\u001b[0m     \u001b[0;31m# Create the parser.\u001b[0m\u001b[0;34m\u001b[0m\u001b[0;34m\u001b[0m\u001b[0m\n\u001b[0;32m--> 275\u001b[0;31m     \u001b[0mparser\u001b[0m \u001b[0;34m=\u001b[0m \u001b[0mTextFileReader\u001b[0m\u001b[0;34m(\u001b[0m\u001b[0mfilepath_or_buffer\u001b[0m\u001b[0;34m,\u001b[0m \u001b[0;34m**\u001b[0m\u001b[0mkwds\u001b[0m\u001b[0;34m)\u001b[0m\u001b[0;34m\u001b[0m\u001b[0m\n\u001b[0m\u001b[1;32m    276\u001b[0m \u001b[0;34m\u001b[0m\u001b[0m\n\u001b[1;32m    277\u001b[0m     \u001b[0;32mif\u001b[0m \u001b[0;34m(\u001b[0m\u001b[0mnrows\u001b[0m \u001b[0;32mis\u001b[0m \u001b[0;32mnot\u001b[0m \u001b[0;32mNone\u001b[0m\u001b[0;34m)\u001b[0m \u001b[0;32mand\u001b[0m \u001b[0;34m(\u001b[0m\u001b[0mchunksize\u001b[0m \u001b[0;32mis\u001b[0m \u001b[0;32mnot\u001b[0m \u001b[0;32mNone\u001b[0m\u001b[0;34m)\u001b[0m\u001b[0;34m:\u001b[0m\u001b[0;34m\u001b[0m\u001b[0m\n",
      "\u001b[0;32m/Users/kono/anaconda/lib/python3.4/site-packages/pandas/io/parsers.py\u001b[0m in \u001b[0;36m__init__\u001b[0;34m(self, f, engine, **kwds)\u001b[0m\n\u001b[1;32m    588\u001b[0m             \u001b[0mself\u001b[0m\u001b[0;34m.\u001b[0m\u001b[0moptions\u001b[0m\u001b[0;34m[\u001b[0m\u001b[0;34m'has_index_names'\u001b[0m\u001b[0;34m]\u001b[0m \u001b[0;34m=\u001b[0m \u001b[0mkwds\u001b[0m\u001b[0;34m[\u001b[0m\u001b[0;34m'has_index_names'\u001b[0m\u001b[0;34m]\u001b[0m\u001b[0;34m\u001b[0m\u001b[0m\n\u001b[1;32m    589\u001b[0m \u001b[0;34m\u001b[0m\u001b[0m\n\u001b[0;32m--> 590\u001b[0;31m         \u001b[0mself\u001b[0m\u001b[0;34m.\u001b[0m\u001b[0m_make_engine\u001b[0m\u001b[0;34m(\u001b[0m\u001b[0mself\u001b[0m\u001b[0;34m.\u001b[0m\u001b[0mengine\u001b[0m\u001b[0;34m)\u001b[0m\u001b[0;34m\u001b[0m\u001b[0m\n\u001b[0m\u001b[1;32m    591\u001b[0m \u001b[0;34m\u001b[0m\u001b[0m\n\u001b[1;32m    592\u001b[0m     \u001b[0;32mdef\u001b[0m \u001b[0m_get_options_with_defaults\u001b[0m\u001b[0;34m(\u001b[0m\u001b[0mself\u001b[0m\u001b[0;34m,\u001b[0m \u001b[0mengine\u001b[0m\u001b[0;34m)\u001b[0m\u001b[0;34m:\u001b[0m\u001b[0;34m\u001b[0m\u001b[0m\n",
      "\u001b[0;32m/Users/kono/anaconda/lib/python3.4/site-packages/pandas/io/parsers.py\u001b[0m in \u001b[0;36m_make_engine\u001b[0;34m(self, engine)\u001b[0m\n\u001b[1;32m    729\u001b[0m     \u001b[0;32mdef\u001b[0m \u001b[0m_make_engine\u001b[0m\u001b[0;34m(\u001b[0m\u001b[0mself\u001b[0m\u001b[0;34m,\u001b[0m \u001b[0mengine\u001b[0m\u001b[0;34m=\u001b[0m\u001b[0;34m'c'\u001b[0m\u001b[0;34m)\u001b[0m\u001b[0;34m:\u001b[0m\u001b[0;34m\u001b[0m\u001b[0m\n\u001b[1;32m    730\u001b[0m         \u001b[0;32mif\u001b[0m \u001b[0mengine\u001b[0m \u001b[0;34m==\u001b[0m \u001b[0;34m'c'\u001b[0m\u001b[0;34m:\u001b[0m\u001b[0;34m\u001b[0m\u001b[0m\n\u001b[0;32m--> 731\u001b[0;31m             \u001b[0mself\u001b[0m\u001b[0;34m.\u001b[0m\u001b[0m_engine\u001b[0m \u001b[0;34m=\u001b[0m \u001b[0mCParserWrapper\u001b[0m\u001b[0;34m(\u001b[0m\u001b[0mself\u001b[0m\u001b[0;34m.\u001b[0m\u001b[0mf\u001b[0m\u001b[0;34m,\u001b[0m \u001b[0;34m**\u001b[0m\u001b[0mself\u001b[0m\u001b[0;34m.\u001b[0m\u001b[0moptions\u001b[0m\u001b[0;34m)\u001b[0m\u001b[0;34m\u001b[0m\u001b[0m\n\u001b[0m\u001b[1;32m    732\u001b[0m         \u001b[0;32melse\u001b[0m\u001b[0;34m:\u001b[0m\u001b[0;34m\u001b[0m\u001b[0m\n\u001b[1;32m    733\u001b[0m             \u001b[0;32mif\u001b[0m \u001b[0mengine\u001b[0m \u001b[0;34m==\u001b[0m \u001b[0;34m'python'\u001b[0m\u001b[0;34m:\u001b[0m\u001b[0;34m\u001b[0m\u001b[0m\n",
      "\u001b[0;32m/Users/kono/anaconda/lib/python3.4/site-packages/pandas/io/parsers.py\u001b[0m in \u001b[0;36m__init__\u001b[0;34m(self, src, **kwds)\u001b[0m\n\u001b[1;32m   1101\u001b[0m         \u001b[0mkwds\u001b[0m\u001b[0;34m[\u001b[0m\u001b[0;34m'allow_leading_cols'\u001b[0m\u001b[0;34m]\u001b[0m \u001b[0;34m=\u001b[0m \u001b[0mself\u001b[0m\u001b[0;34m.\u001b[0m\u001b[0mindex_col\u001b[0m \u001b[0;32mis\u001b[0m \u001b[0;32mnot\u001b[0m \u001b[0;32mFalse\u001b[0m\u001b[0;34m\u001b[0m\u001b[0m\n\u001b[1;32m   1102\u001b[0m \u001b[0;34m\u001b[0m\u001b[0m\n\u001b[0;32m-> 1103\u001b[0;31m         \u001b[0mself\u001b[0m\u001b[0;34m.\u001b[0m\u001b[0m_reader\u001b[0m \u001b[0;34m=\u001b[0m \u001b[0m_parser\u001b[0m\u001b[0;34m.\u001b[0m\u001b[0mTextReader\u001b[0m\u001b[0;34m(\u001b[0m\u001b[0msrc\u001b[0m\u001b[0;34m,\u001b[0m \u001b[0;34m**\u001b[0m\u001b[0mkwds\u001b[0m\u001b[0;34m)\u001b[0m\u001b[0;34m\u001b[0m\u001b[0m\n\u001b[0m\u001b[1;32m   1104\u001b[0m \u001b[0;34m\u001b[0m\u001b[0m\n\u001b[1;32m   1105\u001b[0m         \u001b[0;31m# XXX\u001b[0m\u001b[0;34m\u001b[0m\u001b[0;34m\u001b[0m\u001b[0m\n",
      "\u001b[0;32mpandas/parser.pyx\u001b[0m in \u001b[0;36mpandas.parser.TextReader.__cinit__ (pandas/parser.c:3246)\u001b[0;34m()\u001b[0m\n",
      "\u001b[0;32mpandas/parser.pyx\u001b[0m in \u001b[0;36mpandas.parser.TextReader._setup_parser_source (pandas/parser.c:6111)\u001b[0;34m()\u001b[0m\n",
      "\u001b[0;31mOSError\u001b[0m: File b'./yeast_genes.txt' does not exist"
     ]
    }
   ],
   "source": [
    "yeast_genes = pd.read_csv(\"./yeast_genes.txt\", names=[\"GeneID\"], dtype={\"GeneID\": str})\n",
    "print(len(yeast_genes))\n",
    "\n",
    "id_list = yeast_genes[\"GeneID\"].tolist()\n",
    "\n",
    "query_heavy = {\n",
    "    \"ids\": id_list, # List of yeast genes\n",
    "    \"species\": \"yeast\"\n",
    "}\n",
    "\n",
    "jprint(query_heavy)"
   ]
  },
  {
   "cell_type": "code",
   "execution_count": null,
   "metadata": {
    "collapsed": false
   },
   "outputs": [],
   "source": [
    "q2 = {\n",
    "    \"ids\": [\n",
    "        \"YAL003W\",\n",
    "        \"YAL030W\",\n",
    "        \"YAL038W\",\n",
    "        \"YAL040C\",\n",
    "        \"YAR007C\",\n",
    "        \"YBL005W\",\n",
    "        \"YBL021C\",\n",
    "        \"YBL026W\",\n",
    "        \"YBL050W\",\n",
    "        \"YBL069W\",\n",
    "        \"YBL079W\",\n",
    "        \"YBR018C\",\n",
    "        \"YBR019C\",\n",
    "        \"YBR020W\",\n",
    "        \"YBR043C\",\n",
    "        \"YBR045C\",\n",
    "        \"YBR050C\",\n",
    "        \"YBR072W\",\n",
    "        \"YBR093C\",\n",
    "        \"YBR109C\",\n",
    "        \"YBR112C\",\n",
    "        \"YBR118W\",\n",
    "        \"YBR135W\",\n",
    "        \"YBR155W\",\n",
    "        \"YBR160W\"],\n",
    "    \"species\": \"yeast\"\n",
    "}\n",
    "\n",
    "res_large = requests.post(BASE + 'labels', json=q2)\n",
    "\n",
    "jprint(res_large.json())"
   ]
  },
  {
   "cell_type": "markdown",
   "metadata": {},
   "source": [
    "## test with very large input\n",
    "\n",
    "Such file can be created from BioGRID networks...\n",
    "\n",
    "```bash\n",
    "cat BIOGRID-ORGANISM-Homo_sapiens-3.4.129.mitab | awk -F\"\\t\" '{print $1 \"\\n\" $2}' | awk -F\":\" '{print $2}' | uniq > ~/Desktop/human_genes_list_large.txt\n",
    "```\n"
   ]
  },
  {
   "cell_type": "code",
   "execution_count": null,
   "metadata": {
    "collapsed": true
   },
   "outputs": [],
   "source": [
    "import pandas as pd\n",
    "\n",
    "large_gene_list = pd.read_csv(\"./human_genes_list_large.txt\", names=[\"GeneID\"], dtype={\"GeneID\": str})"
   ]
  },
  {
   "cell_type": "code",
   "execution_count": null,
   "metadata": {
    "collapsed": false
   },
   "outputs": [],
   "source": [
    "len(large_gene_list)"
   ]
  },
  {
   "cell_type": "code",
   "execution_count": null,
   "metadata": {
    "collapsed": false
   },
   "outputs": [],
   "source": [
    "id_list = large_gene_list[\"GeneID\"].tolist()\n",
    "\n",
    "query_heavy = {\n",
    "    \"ids\": id_list, # Huge list!\n",
    "}\n",
    "\n",
    "res_large = requests.post(BASE + 'map', data=json.dumps(query_heavy), headers=HEADERS)"
   ]
  },
  {
   "cell_type": "code",
   "execution_count": null,
   "metadata": {
    "collapsed": false
   },
   "outputs": [],
   "source": [
    "largeJS = res_large.json()\n",
    "\n",
    "print(len(largeJS))"
   ]
  },
  {
   "cell_type": "code",
   "execution_count": null,
   "metadata": {
    "collapsed": false
   },
   "outputs": [],
   "source": [
    "# Randomly pick 100 IDs from original list\n",
    "import random\n",
    "\n",
    "list_size = len(id_list)\n",
    "\n",
    "def call_random(server_location):\n",
    "    random_ids = []\n",
    "\n",
    "    for i in range(0, 2000):\n",
    "        next_id = id_list[random.randint(0, list_size-1)]\n",
    "        random_ids.append(next_id)\n",
    "\n",
    "    query_rand = {\n",
    "        \"ids\": random_ids,\n",
    "    }\n",
    "\n",
    "    res_rand = requests.post(server_location + 'map', data=json.dumps(query_rand), headers=HEADERS)"
   ]
  },
  {
   "cell_type": "code",
   "execution_count": null,
   "metadata": {
    "collapsed": false
   },
   "outputs": [],
   "source": [
    "%%timeit -n 100\n",
    "\n",
    "call_random(\"http://192.168.99.100:3000/\")\n"
   ]
  },
  {
   "cell_type": "code",
   "execution_count": null,
   "metadata": {
    "collapsed": false
   },
   "outputs": [],
   "source": [
    "%%timeit -n 100\n",
    "\n",
    "call_random(\"http://192.168.99.100:8080/idmapping/v1/\")"
   ]
  }
 ],
 "metadata": {
  "kernelspec": {
   "display_name": "Python 3",
   "language": "python",
   "name": "python3"
  },
  "language_info": {
   "codemirror_mode": {
    "name": "ipython",
    "version": 3
   },
   "file_extension": ".py",
   "mimetype": "text/x-python",
   "name": "python",
   "nbconvert_exporter": "python",
   "pygments_lexer": "ipython3",
   "version": "3.5.1"
  }
 },
 "nbformat": 4,
 "nbformat_minor": 0
}
