{
 "cells": [
  {
   "cell_type": "code",
   "execution_count": null,
   "metadata": {
    "collapsed": false,
    "scrolled": false
   },
   "outputs": [],
   "source": [
    "import json, requests\n",
    "import pandas as pd\n",
    "\n",
    "# BASE = \"http://localhost:3000/\" # Local machine\n",
    "BASE = \"http://192.168.99.100:3000/\" # Local Docker instance\n",
    "# BASE = \"http://192.168.99.100:8080/idmapping/v1/\" # Agent on Docker\n",
    "# BASE = \"http://54.200.201.85:3000/\" # EC2\n",
    "\n",
    "def jprint(data):\n",
    "    print(json.dumps(data, indent=4))\n",
    "\n",
    "# Mixed species query allowed - human, mouse, yeast, and fly\n",
    "query1 = {\n",
    "    \"ids\": [\"rAd5\", \"p53\", \"mapk1\"],\n",
    "    \"idTypes\": [\"GeneID\", \"Symbol\", \"UniProtKB-ID\"]\n",
    "}\n",
    "\n",
    "res1 = requests.post(BASE + 'map', json=query1)\n",
    "res_json = res1.json()\n",
    "\n",
    "jprint(res_json)"
   ]
  },
  {
   "cell_type": "code",
   "execution_count": null,
   "metadata": {
    "collapsed": false
   },
   "outputs": [],
   "source": [
    "# Mixed species query allowed - human, mouse, yeast, and fly\n",
    "query1 = {\n",
    "    \"ids\": [\"7157\", \"P04637\"],\n",
    "    \"species\": \"human\"\n",
    "}\n",
    "\n",
    "res1 = requests.post(BASE + 'labels', json=query1)\n",
    "res_json = res1.json()\n",
    "\n",
    "# print(len(res_json[\"matched\"]))\n",
    "jprint(res_json)"
   ]
  },
  {
   "cell_type": "code",
   "execution_count": null,
   "metadata": {
    "collapsed": false,
    "scrolled": false
   },
   "outputs": [],
   "source": [
    "import json, requests\n",
    "\n",
    "# Utility function to display JSON\n",
    "def jprint(data):\n",
    "    print(json.dumps(data, indent=4))\n",
    "\n",
    "# Mixed species query allowed - human, mouse, yeast, and fly\n",
    "query = {\n",
    "    \"ids\": [\"Antp\", \"HOXA7\"],\n",
    "    \"idTypes\": [\"GeneID\", \"Symbol\", \"UniProtKB-ID\", \"Synonyms\"]\n",
    "}\n",
    "\n",
    "res = requests.post(BASE + 'map', json=query1)\n",
    "jprint(res1.json())"
   ]
  },
  {
   "cell_type": "code",
   "execution_count": null,
   "metadata": {
    "collapsed": false
   },
   "outputs": [],
   "source": [
    "yeast_genes = pd.read_csv(\"./yeast_genes.txt\", names=[\"GeneID\"], dtype={\"GeneID\": str})\n",
    "print(len(yeast_genes))\n",
    "\n",
    "id_list = yeast_genes[\"GeneID\"].tolist()\n",
    "\n",
    "query_heavy = {\n",
    "    \"ids\": id_list, # List of yeast genes\n",
    "    \"species\": \"yeast\"\n",
    "}\n",
    "\n",
    "jprint(query_heavy)"
   ]
  },
  {
   "cell_type": "code",
   "execution_count": null,
   "metadata": {
    "collapsed": false
   },
   "outputs": [],
   "source": [
    "q2 = {\n",
    "    \"ids\": [\n",
    "        \"YAL003W\",\n",
    "        \"YAL030W\",\n",
    "        \"YAL038W\",\n",
    "        \"YAL040C\",\n",
    "        \"YAR007C\",\n",
    "        \"YBL005W\",\n",
    "        \"YBL021C\",\n",
    "        \"YBL026W\",\n",
    "        \"YBL050W\",\n",
    "        \"YBL069W\",\n",
    "        \"YBL079W\",\n",
    "        \"YBR018C\",\n",
    "        \"YBR019C\",\n",
    "        \"YBR020W\",\n",
    "        \"YBR043C\",\n",
    "        \"YBR045C\",\n",
    "        \"YBR050C\",\n",
    "        \"YBR072W\",\n",
    "        \"YBR093C\",\n",
    "        \"YBR109C\",\n",
    "        \"YBR112C\",\n",
    "        \"YBR118W\",\n",
    "        \"YBR135W\",\n",
    "        \"YBR155W\",\n",
    "        \"YBR160W\"],\n",
    "    \"species\": \"yeast\"\n",
    "}\n",
    "\n",
    "res_large = requests.post(BASE + 'labels', json=q2)\n",
    "\n",
    "jprint(res_large.json())"
   ]
  },
  {
   "cell_type": "markdown",
   "metadata": {},
   "source": [
    "## test with very large input\n",
    "\n",
    "Such file can be created from BioGRID networks...\n",
    "\n",
    "```bash\n",
    "cat BIOGRID-ORGANISM-Homo_sapiens-3.4.129.mitab | awk -F\"\\t\" '{print $1 \"\\n\" $2}' | awk -F\":\" '{print $2}' | uniq > ~/Desktop/human_genes_list_large.txt\n",
    "```\n"
   ]
  },
  {
   "cell_type": "code",
   "execution_count": null,
   "metadata": {
    "collapsed": true
   },
   "outputs": [],
   "source": [
    "import pandas as pd\n",
    "\n",
    "large_gene_list = pd.read_csv(\"./human_genes_list_large.txt\", names=[\"GeneID\"], dtype={\"GeneID\": str})"
   ]
  },
  {
   "cell_type": "code",
   "execution_count": null,
   "metadata": {
    "collapsed": false
   },
   "outputs": [],
   "source": [
    "len(large_gene_list)"
   ]
  },
  {
   "cell_type": "code",
   "execution_count": null,
   "metadata": {
    "collapsed": false
   },
   "outputs": [],
   "source": [
    "id_list = large_gene_list[\"GeneID\"].tolist()\n",
    "\n",
    "query_heavy = {\n",
    "    \"ids\": id_list, # Huge list!\n",
    "}\n",
    "\n",
    "res_large = requests.post(BASE + 'map', data=json.dumps(query_heavy), headers=HEADERS)"
   ]
  },
  {
   "cell_type": "code",
   "execution_count": null,
   "metadata": {
    "collapsed": false
   },
   "outputs": [],
   "source": [
    "largeJS = res_large.json()\n",
    "\n",
    "print(len(largeJS))"
   ]
  },
  {
   "cell_type": "code",
   "execution_count": null,
   "metadata": {
    "collapsed": false
   },
   "outputs": [],
   "source": [
    "# Randomly pick 100 IDs from original list\n",
    "import random\n",
    "\n",
    "list_size = len(id_list)\n",
    "\n",
    "def call_random(server_location):\n",
    "    random_ids = []\n",
    "\n",
    "    for i in range(0, 2000):\n",
    "        next_id = id_list[random.randint(0, list_size-1)]\n",
    "        random_ids.append(next_id)\n",
    "\n",
    "    query_rand = {\n",
    "        \"ids\": random_ids,\n",
    "    }\n",
    "\n",
    "    res_rand = requests.post(server_location + 'map', data=json.dumps(query_rand), headers=HEADERS)"
   ]
  },
  {
   "cell_type": "code",
   "execution_count": null,
   "metadata": {
    "collapsed": false
   },
   "outputs": [],
   "source": [
    "%%timeit -n 100\n",
    "\n",
    "call_random(\"http://192.168.99.100:3000/\")\n"
   ]
  },
  {
   "cell_type": "code",
   "execution_count": null,
   "metadata": {
    "collapsed": false
   },
   "outputs": [],
   "source": [
    "%%timeit -n 100\n",
    "\n",
    "call_random(\"http://192.168.99.100:8080/idmapping/v1/\")"
   ]
  }
 ],
 "metadata": {
  "kernelspec": {
   "display_name": "Python 3",
   "language": "python",
   "name": "python3"
  },
  "language_info": {
   "codemirror_mode": {
    "name": "ipython",
    "version": 3
   },
   "file_extension": ".py",
   "mimetype": "text/x-python",
   "name": "python",
   "nbconvert_exporter": "python",
   "pygments_lexer": "ipython3",
   "version": "3.4.3"
  }
 },
 "nbformat": 4,
 "nbformat_minor": 0
}
